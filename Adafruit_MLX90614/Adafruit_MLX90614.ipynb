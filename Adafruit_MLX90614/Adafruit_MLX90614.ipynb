{
 "cells": [
  {
   "cell_type": "code",
   "execution_count": 32,
   "metadata": {},
   "outputs": [],
   "source": [
    "# default I2C address\n",
    "MLX90614_I2CADDR        = 0x5A\n",
    "\n",
    "# RAM\n",
    "MLX90614_RAWIR1         = 0x04\n",
    "MLX90614_RAWIR2         = 0x05\n",
    "MLX90614_TA             = 0x06\n",
    "MLX90614_TOBJ1          = 0x07\n",
    "MLX90614_TOBJ2          = 0x08\n",
    "# EEPROM\n",
    "MLX90614_TOMAX          = 0x20\n",
    "MLX90614_TOMIN          = 0x21\n",
    "MLX90614_PWMCTRL        = 0x22\n",
    "MLX90614_TARANGE        = 0x23\n",
    "MLX90614_EMISS          = 0x24\n",
    "MLX90614_CONFIG         = 0x25\n",
    "MLX90614_ADDR           = 0x0E\n",
    "MLX90614_ID1            = 0x3C\n",
    "MLX90614_ID2            = 0x3D\n",
    "MLX90614_ID3            = 0x3E\n",
    "MLX90614_ID4            = 0x3F\n",
    "\n",
    "class MLX90614():\n",
    "    \n",
    "    def __init__(self, address=MLX90614_I2CADDR, i2c=None, **kwargs):\n",
    "        if i2c is None:\n",
    "            from Adafruit_GPIO import I2C\n",
    "            i2c = I2C\n",
    "        self._device = i2c.get_i2c_device(address, **kwargs)\n",
    "        \n",
    "    def _read_temperature(self, reg):\n",
    "        temp = self._device.readU16(reg)\n",
    "        temp *= 0.02\n",
    "        temp -= 273.15\n",
    "        return temp\n",
    "    \n",
    "    def read_object_temperatureC(self, ):\n",
    "        return self._read_temperature(MLX90614_TOBJ1)   \n",
    "\n",
    "    def read_object_temperatureF(self, ):\n",
    "        return self.read_object_temperatureC() * (9.0/5.0) + 32.0   \n",
    "    \n",
    "    def read_ambient_temperatureC(self, ):\n",
    "        return self._read_temperature(MLX90614_TA)\n",
    "    \n",
    "    def read_ambient_temperatureF(self, ):\n",
    "        return self.read_ambient_temperatureC() * (9.0/5.0) + 32.0    "
   ]
  },
  {
   "cell_type": "code",
   "execution_count": 33,
   "metadata": {},
   "outputs": [],
   "source": [
    "mlx = MLX90614()"
   ]
  },
  {
   "cell_type": "code",
   "execution_count": null,
   "metadata": {},
   "outputs": [
    {
     "name": "stdout",
     "output_type": "stream",
     "text": [
      "   26.35     25.51\r"
     ]
    }
   ],
   "source": [
    "import sys\n",
    "import time\n",
    "\n",
    "while True:\n",
    "    o = mlx.read_object_temperatureC()\n",
    "    a = mlx.read_ambient_temperatureC()\n",
    "    sys.stdout.write(\"%8.2f  %8.2f\\r\" % (o,a))\n",
    "    time.sleep(0.5)"
   ]
  },
  {
   "cell_type": "code",
   "execution_count": null,
   "metadata": {},
   "outputs": [],
   "source": []
  }
 ],
 "metadata": {
  "kernelspec": {
   "display_name": "Python 2",
   "language": "python",
   "name": "python2"
  },
  "language_info": {
   "codemirror_mode": {
    "name": "ipython",
    "version": 2
   },
   "file_extension": ".py",
   "mimetype": "text/x-python",
   "name": "python",
   "nbconvert_exporter": "python",
   "pygments_lexer": "ipython2",
   "version": "2.7.13"
  }
 },
 "nbformat": 4,
 "nbformat_minor": 2
}
